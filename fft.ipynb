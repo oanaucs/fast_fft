{
 "cells": [
  {
   "cell_type": "markdown",
   "metadata": {},
   "source": [
    "### Radix-2 DIT fast fourier transform"
   ]
  },
  {
   "cell_type": "code",
   "execution_count": 15,
   "metadata": {},
   "outputs": [],
   "source": [
    "import numpy as np\n",
    "import cmath as m\n",
    "import matplotlib\n",
    "import matplotlib.pyplot as plt"
   ]
  },
  {
   "cell_type": "markdown",
   "metadata": {},
   "source": [
    "#### Pseudocode \n",
    "```X0,...,N−1 ← ditfft2(x, N, s):             DFT of (x0, xs, x2s, ..., x(N-1)s):\n",
    "    if N = 1 then\n",
    "        X0 ← x0                                      trivial size-1 DFT base case\n",
    "    else\n",
    "        X0,...,N/2−1 ← ditfft2(x, N/2, 2s)             DFT of (x0, x2s, x4s, ...)\n",
    "        XN/2,...,N−1 ← ditfft2(x+s, N/2, 2s)           DFT of (xs, xs+2s, xs+4s, ...)\n",
    "        for k = 0 to N/2−1                           combine DFTs of two halves into full DFT:\n",
    "            t ← Xk\n",
    "            Xk ← t + exp(−2πi k/N) Xk+N/2\n",
    "            Xk+N/2 ← t − exp(−2πi k/N) Xk+N/2\n",
    "        endfor\n",
    "    endif\n",
    "```\n",
    "\n",
    "https://en.wikipedia.org/wiki/Cooley%E2%80%93Tukey_FFT_algorithm"
   ]
  },
  {
   "cell_type": "code",
   "execution_count": 4,
   "metadata": {},
   "outputs": [],
   "source": [
    "def ditfft2(x, n):\n",
    "    if n == 1:\n",
    "        return x\n",
    "    else:\n",
    "        x[int(n/2)-1:] = ditfft2(x[int(n/2)-1:], int(n/2))\n",
    "        x[:int(n/2)-1] = ditfft2(x[:int(n/2)-1], int(n/2))\n",
    "        for k in range(0, int(n/2)-1):\n",
    "            t = x[k]\n",
    "            x[k] = t + m.exp(-2*np.pi * k / n) * x[k+int(n/2)]\n",
    "            x[k+int(n/2)] = t - m.exp(-2*np.pi * k / n) * x[k+int(n/2)]\n",
    "        return x\n",
    "            "
   ]
  },
  {
   "cell_type": "code",
   "execution_count": 33,
   "metadata": {},
   "outputs": [],
   "source": [
    "def plot_samples(samples, transformed_samples):\n",
    "    fig = plt.figure(figsize=(8,8))\n",
    "    colors = ['red', 'blue']\n",
    "    plt.scatter(samples.real, samples.imag, c='blue')\n",
    "    fig = plt.figure(figsize=(8,8))\n",
    "    plt.scatter(transformed_samples.real, transformed_samples.imag, c='orange')\n"
   ]
  },
  {
   "cell_type": "code",
   "execution_count": 34,
   "metadata": {},
   "outputs": [
    {
     "data": {
      "image/png": "[encoded data removed]",
      "text/plain": [
       "<Figure size 576x576 with 1 Axes>"
      ]
     },
     "metadata": {},
     "output_type": "display_data"
    },
    {
     "data": {
      "image/png": "[encoded data removed]",
      "text/plain": [
       "<Figure size 576x576 with 1 Axes>"
      ]
     },
     "metadata": {},
     "output_type": "display_data"
    }
   ],
   "source": [
    "num_samples = 64\n",
    "num_seconds = 1.0\n",
    "sample_rate = num_samples/num_seconds\n",
    "frequency = sample_rate/num_samples\n",
    "\n",
    "freqs = [2, 5, 11, 17, 29]\n",
    "samples = []\n",
    "\n",
    "for i in range(0, num_samples):\n",
    "    n = complex(0.0, 0.0)\n",
    "    for j in range(0, len(freqs)):\n",
    "        n += np.sin(2*np.pi*freqs[j]*i/num_samples)\n",
    "    samples.append(n)\n",
    "    \n",
    "transformed_samples = ditfft2(samples, len(samples))\n",
    "plot_samples(np.asarray(samples), np.asarray(transformed_samples))"
   ]
  }
 ],
 "metadata": {
  "kernelspec": {
   "display_name": "Python 3",
   "language": "python",
   "name": "python3"
  },
  "language_info": {
   "codemirror_mode": {
    "name": "ipython",
    "version": 3
   },
   "file_extension": ".py",
   "mimetype": "text/x-python",
   "name": "python",
   "nbconvert_exporter": "python",
   "pygments_lexer": "ipython3",
   "version": "3.6.0"
  }
 },
 "nbformat": 4,
 "nbformat_minor": 2
}
